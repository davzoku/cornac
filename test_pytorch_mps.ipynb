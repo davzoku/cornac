{
 "cells": [
  {
   "cell_type": "code",
   "execution_count": 1,
   "metadata": {},
   "outputs": [
    {
     "name": "stderr",
     "output_type": "stream",
     "text": [
      "/opt/homebrew/Caskroom/miniconda/base/envs/cornac/lib/python3.10/site-packages/tqdm/auto.py:21: TqdmWarning: IProgress not found. Please update jupyter and ipywidgets. See https://ipywidgets.readthedocs.io/en/stable/user_install.html\n",
      "  from .autonotebook import tqdm as notebook_tqdm\n"
     ]
    }
   ],
   "source": [
    "import time\n",
    "import cornac\n",
    "from cornac.datasets import movielens\n",
    "from cornac.eval_methods import RatioSplit\n",
    "from cornac.models import MF"
   ]
  },
  {
   "cell_type": "markdown",
   "metadata": {},
   "source": [
    "## PyTorch MPS Metal"
   ]
  },
  {
   "cell_type": "code",
   "execution_count": 2,
   "metadata": {},
   "outputs": [
    {
     "name": "stdout",
     "output_type": "stream",
     "text": [
      "rating_threshold = 1.0\n",
      "exclude_unknowns = True\n",
      "---\n",
      "Training data:\n",
      "Number of users = 943\n",
      "Number of items = 1651\n",
      "Number of ratings = 80000\n",
      "Max rating = 5.0\n",
      "Min rating = 1.0\n",
      "Global mean = 3.5\n",
      "---\n",
      "Test data:\n",
      "Number of users = 943\n",
      "Number of items = 1651\n",
      "Number of ratings = 19964\n",
      "Number of unknown users = 0\n",
      "Number of unknown items = 0\n",
      "---\n",
      "Total users = 943\n",
      "Total items = 1651\n",
      "\n",
      "[MF(K=5)] Training started!\n",
      "DEBUG: device=device(type='mps')\n"
     ]
    },
    {
     "name": "stderr",
     "output_type": "stream",
     "text": [
      "100%|██████████| 5/5 [00:05<00:00,  1.16s/it, loss=0.867]\n"
     ]
    },
    {
     "name": "stdout",
     "output_type": "stream",
     "text": [
      "\n",
      "[MF(K=5)] Evaluation started!\n"
     ]
    },
    {
     "name": "stderr",
     "output_type": "stream",
     "text": [
      "Rating: 100%|██████████| 19964/19964 [00:00<00:00, 140275.28it/s]\n"
     ]
    },
    {
     "name": "stdout",
     "output_type": "stream",
     "text": [
      "\n",
      "TEST:\n",
      "...\n",
      "        |   RMSE | Train (s) | Test (s)\n",
      "------- + ------ + --------- + --------\n",
      "MF(K=5) | 0.9137 |    7.9755 |   0.1978\n",
      "\n",
      "Execution time: 8.175341129302979 seconds\n"
     ]
    }
   ],
   "source": [
    "K = 5\n",
    "VERBOSE=True\n",
    "SEED=42\n",
    "\n",
    "mf = MF(k=K, max_iter=5, learning_rate=0.01, lambda_reg=0.01,\n",
    "        verbose=VERBOSE, seed=SEED, name=f\"MF(K={K})\", backend=\"mps\")\n",
    "\n",
    "eval_metrics = [\n",
    "  cornac.metrics.RMSE()\n",
    "]\n",
    "\n",
    "data = movielens.load_feedback(variant=\"100K\")\n",
    "rs = RatioSplit(data, test_size=0.2, seed=SEED, verbose=VERBOSE)\n",
    "\n",
    "start_time = time.time()\n",
    "cornac.Experiment(eval_method=rs, models=[mf], metrics=eval_metrics).run()\n",
    "end_time = time.time()\n",
    "\n",
    "execution_time = end_time - start_time\n",
    "print(\"Execution time:\", execution_time, \"seconds\")"
   ]
  },
  {
   "cell_type": "markdown",
   "metadata": {},
   "source": [
    "## PyTorch CPU"
   ]
  },
  {
   "cell_type": "code",
   "execution_count": 3,
   "metadata": {},
   "outputs": [
    {
     "name": "stdout",
     "output_type": "stream",
     "text": [
      "rating_threshold = 1.0\n",
      "exclude_unknowns = True\n",
      "---\n",
      "Training data:\n",
      "Number of users = 943\n",
      "Number of items = 1651\n",
      "Number of ratings = 80000\n",
      "Max rating = 5.0\n",
      "Min rating = 1.0\n",
      "Global mean = 3.5\n",
      "---\n",
      "Test data:\n",
      "Number of users = 943\n",
      "Number of items = 1651\n",
      "Number of ratings = 19964\n",
      "Number of unknown users = 0\n",
      "Number of unknown items = 0\n",
      "---\n",
      "Total users = 943\n",
      "Total items = 1651\n",
      "\n",
      "[MF(K=5)] Training started!\n",
      "DEBUG: device='cpu'\n"
     ]
    },
    {
     "name": "stderr",
     "output_type": "stream",
     "text": [
      "100%|██████████| 5/5 [00:00<00:00,  5.50it/s, loss=0.867]\n"
     ]
    },
    {
     "name": "stdout",
     "output_type": "stream",
     "text": [
      "\n",
      "[MF(K=5)] Evaluation started!\n"
     ]
    },
    {
     "name": "stderr",
     "output_type": "stream",
     "text": [
      "Rating: 100%|██████████| 19964/19964 [00:00<00:00, 133496.40it/s]\n"
     ]
    },
    {
     "name": "stdout",
     "output_type": "stream",
     "text": [
      "\n",
      "TEST:\n",
      "...\n",
      "        |   RMSE | Train (s) | Test (s)\n",
      "------- + ------ + --------- + --------\n",
      "MF(K=5) | 0.9137 |    0.9218 |   0.2018\n",
      "\n",
      "Execution time: 1.1250643730163574 seconds\n"
     ]
    }
   ],
   "source": [
    "K = 5\n",
    "VERBOSE=True\n",
    "SEED=42\n",
    "\n",
    "# \"pytorch-cpu\": force cpu for testing\n",
    "mf = MF(k=K, max_iter=5, learning_rate=0.01, lambda_reg=0.01,\n",
    "        verbose=VERBOSE, seed=SEED, name=f\"MF(K={K})\", backend=\"pytorch-cpu\")\n",
    "\n",
    "eval_metrics = [\n",
    "  cornac.metrics.RMSE()\n",
    "]\n",
    "\n",
    "data = movielens.load_feedback(variant=\"100K\")\n",
    "rs = RatioSplit(data, test_size=0.2, seed=SEED, verbose=VERBOSE)\n",
    "\n",
    "start_time = time.time()\n",
    "cornac.Experiment(eval_method=rs, models=[mf], metrics=eval_metrics).run()\n",
    "end_time = time.time()\n",
    "\n",
    "execution_time = end_time - start_time\n",
    "print(\"Execution time:\", execution_time, \"seconds\")"
   ]
  },
  {
   "cell_type": "markdown",
   "metadata": {},
   "source": [
    "## CPU Backend"
   ]
  },
  {
   "cell_type": "code",
   "execution_count": 4,
   "metadata": {},
   "outputs": [
    {
     "name": "stdout",
     "output_type": "stream",
     "text": [
      "rating_threshold = 1.0\n",
      "exclude_unknowns = True\n",
      "---\n",
      "Training data:\n",
      "Number of users = 943\n",
      "Number of items = 1651\n",
      "Number of ratings = 80000\n",
      "Max rating = 5.0\n",
      "Min rating = 1.0\n",
      "Global mean = 3.5\n",
      "---\n",
      "Test data:\n",
      "Number of users = 943\n",
      "Number of items = 1651\n",
      "Number of ratings = 19964\n",
      "Number of unknown users = 0\n",
      "Number of unknown items = 0\n",
      "---\n",
      "Total users = 943\n",
      "Total items = 1651\n",
      "\n",
      "[MF(K=5)] Training started!\n"
     ]
    },
    {
     "name": "stderr",
     "output_type": "stream",
     "text": [
      "100%|██████████| 5/5 [00:00<00:00, 1236.97it/s, loss=34805.20]\n"
     ]
    },
    {
     "name": "stdout",
     "output_type": "stream",
     "text": [
      "Optimization finished!\n",
      "\n",
      "[MF(K=5)] Evaluation started!\n"
     ]
    },
    {
     "name": "stderr",
     "output_type": "stream",
     "text": [
      "Rating: 100%|██████████| 19964/19964 [00:00<00:00, 144731.92it/s]"
     ]
    },
    {
     "name": "stdout",
     "output_type": "stream",
     "text": [
      "\n",
      "TEST:\n",
      "...\n",
      "        |   RMSE | Train (s) | Test (s)\n",
      "------- + ------ + --------- + --------\n",
      "MF(K=5) | 0.9174 |    0.0108 |   0.1830\n",
      "\n",
      "Execution time: 0.1968390941619873 seconds\n"
     ]
    },
    {
     "name": "stderr",
     "output_type": "stream",
     "text": [
      "\n"
     ]
    }
   ],
   "source": [
    "K = 5\n",
    "VERBOSE=True\n",
    "SEED=42\n",
    "\n",
    "mf = MF(k=K, max_iter=5, learning_rate=0.01, lambda_reg=0.01,\n",
    "        verbose=VERBOSE, seed=SEED, name=f\"MF(K={K})\", backend=\"cpu\")\n",
    "\n",
    "eval_metrics = [\n",
    "  cornac.metrics.RMSE()\n",
    "]\n",
    "\n",
    "data = movielens.load_feedback(variant=\"100K\")\n",
    "rs = RatioSplit(data, test_size=0.2, seed=SEED, verbose=VERBOSE)\n",
    "\n",
    "start_time = time.time()\n",
    "cornac.Experiment(eval_method=rs, models=[mf], metrics=eval_metrics).run()\n",
    "end_time = time.time()\n",
    "\n",
    "execution_time = end_time - start_time\n",
    "print(\"Execution time:\", execution_time, \"seconds\")"
   ]
  },
  {
   "cell_type": "code",
   "execution_count": null,
   "metadata": {},
   "outputs": [],
   "source": []
  }
 ],
 "metadata": {
  "kernelspec": {
   "display_name": "cornac",
   "language": "python",
   "name": "python3"
  },
  "language_info": {
   "codemirror_mode": {
    "name": "ipython",
    "version": 3
   },
   "file_extension": ".py",
   "mimetype": "text/x-python",
   "name": "python",
   "nbconvert_exporter": "python",
   "pygments_lexer": "ipython3",
   "version": "3.10.14"
  }
 },
 "nbformat": 4,
 "nbformat_minor": 2
}
